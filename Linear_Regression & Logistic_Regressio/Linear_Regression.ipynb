{
 "cells": [
  {
   "cell_type": "markdown",
   "id": "f6c1bcd7",
   "metadata": {},
   "source": [
    "# Implementation without in-built libraries."
   ]
  },
  {
   "cell_type": "code",
   "execution_count": 1,
   "id": "61f6e634",
   "metadata": {},
   "outputs": [],
   "source": [
    "import pandas as pd\n",
    "import matplotlib.pyplot as plt\n",
    "%matplotlib inline"
   ]
  },
  {
   "cell_type": "code",
   "execution_count": 2,
   "id": "4ff73c70",
   "metadata": {},
   "outputs": [
    {
     "data": {
      "text/html": [
       "<div>\n",
       "<style scoped>\n",
       "    .dataframe tbody tr th:only-of-type {\n",
       "        vertical-align: middle;\n",
       "    }\n",
       "\n",
       "    .dataframe tbody tr th {\n",
       "        vertical-align: top;\n",
       "    }\n",
       "\n",
       "    .dataframe thead th {\n",
       "        text-align: right;\n",
       "    }\n",
       "</style>\n",
       "<table border=\"1\" class=\"dataframe\">\n",
       "  <thead>\n",
       "    <tr style=\"text-align: right;\">\n",
       "      <th></th>\n",
       "      <th>Id</th>\n",
       "      <th>height</th>\n",
       "      <th>weight</th>\n",
       "    </tr>\n",
       "  </thead>\n",
       "  <tbody>\n",
       "    <tr>\n",
       "      <th>0</th>\n",
       "      <td>1</td>\n",
       "      <td>70.49366</td>\n",
       "      <td>129.3840</td>\n",
       "    </tr>\n",
       "    <tr>\n",
       "      <th>1</th>\n",
       "      <td>2</td>\n",
       "      <td>65.23482</td>\n",
       "      <td>104.5786</td>\n",
       "    </tr>\n",
       "    <tr>\n",
       "      <th>2</th>\n",
       "      <td>3</td>\n",
       "      <td>67.59619</td>\n",
       "      <td>131.7669</td>\n",
       "    </tr>\n",
       "    <tr>\n",
       "      <th>3</th>\n",
       "      <td>4</td>\n",
       "      <td>68.51919</td>\n",
       "      <td>135.0276</td>\n",
       "    </tr>\n",
       "    <tr>\n",
       "      <th>4</th>\n",
       "      <td>5</td>\n",
       "      <td>67.07600</td>\n",
       "      <td>118.4065</td>\n",
       "    </tr>\n",
       "  </tbody>\n",
       "</table>\n",
       "</div>"
      ],
      "text/plain": [
       "   Id    height    weight\n",
       "0   1  70.49366  129.3840\n",
       "1   2  65.23482  104.5786\n",
       "2   3  67.59619  131.7669\n",
       "3   4  68.51919  135.0276\n",
       "4   5  67.07600  118.4065"
      ]
     },
     "execution_count": 2,
     "metadata": {},
     "output_type": "execute_result"
    }
   ],
   "source": [
    "df = pd.read_csv('train.csv')\n",
    "df.head()"
   ]
  },
  {
   "cell_type": "code",
   "execution_count": 3,
   "id": "709267f2",
   "metadata": {},
   "outputs": [],
   "source": [
    "x = df['height']\n",
    "y = df['weight']"
   ]
  },
  {
   "cell_type": "code",
   "execution_count": 4,
   "id": "0d336fe0",
   "metadata": {},
   "outputs": [
    {
     "data": {
      "text/plain": [
       "<matplotlib.collections.PathCollection at 0x14fb7a72c70>"
      ]
     },
     "execution_count": 4,
     "metadata": {},
     "output_type": "execute_result"
    },
    {
     "data": {
      "image/png": "[encoded data removed]",
      "text/plain": [
       "<Figure size 432x288 with 1 Axes>"
      ]
     },
     "metadata": {
      "needs_background": "light"
     },
     "output_type": "display_data"
    }
   ],
   "source": [
    "plt.scatter(x,y)               "
   ]
  },
  {
   "cell_type": "markdown",
   "id": "dccb6e39",
   "metadata": {},
   "source": [
    "sx =  Σ(xbar-xi)^2"
   ]
  },
  {
   "cell_type": "code",
   "execution_count": 5,
   "id": "85ae637b",
   "metadata": {},
   "outputs": [
    {
     "name": "stdout",
     "output_type": "stream",
     "text": [
      "67.9952271889993\n"
     ]
    },
    {
     "data": {
      "text/html": [
       "<div>\n",
       "<style scoped>\n",
       "    .dataframe tbody tr th:only-of-type {\n",
       "        vertical-align: middle;\n",
       "    }\n",
       "\n",
       "    .dataframe tbody tr th {\n",
       "        vertical-align: top;\n",
       "    }\n",
       "\n",
       "    .dataframe thead th {\n",
       "        text-align: right;\n",
       "    }\n",
       "</style>\n",
       "<table border=\"1\" class=\"dataframe\">\n",
       "  <thead>\n",
       "    <tr style=\"text-align: right;\">\n",
       "      <th></th>\n",
       "      <th>Id</th>\n",
       "      <th>height</th>\n",
       "      <th>weight</th>\n",
       "      <th>x_value</th>\n",
       "      <th>x_squared</th>\n",
       "    </tr>\n",
       "  </thead>\n",
       "  <tbody>\n",
       "    <tr>\n",
       "      <th>0</th>\n",
       "      <td>1</td>\n",
       "      <td>70.49366</td>\n",
       "      <td>129.3840</td>\n",
       "      <td>-2.498433</td>\n",
       "      <td>6.242167</td>\n",
       "    </tr>\n",
       "    <tr>\n",
       "      <th>1</th>\n",
       "      <td>2</td>\n",
       "      <td>65.23482</td>\n",
       "      <td>104.5786</td>\n",
       "      <td>2.760407</td>\n",
       "      <td>7.619848</td>\n",
       "    </tr>\n",
       "    <tr>\n",
       "      <th>2</th>\n",
       "      <td>3</td>\n",
       "      <td>67.59619</td>\n",
       "      <td>131.7669</td>\n",
       "      <td>0.399037</td>\n",
       "      <td>0.159231</td>\n",
       "    </tr>\n",
       "    <tr>\n",
       "      <th>3</th>\n",
       "      <td>4</td>\n",
       "      <td>68.51919</td>\n",
       "      <td>135.0276</td>\n",
       "      <td>-0.523963</td>\n",
       "      <td>0.274537</td>\n",
       "    </tr>\n",
       "    <tr>\n",
       "      <th>4</th>\n",
       "      <td>5</td>\n",
       "      <td>67.07600</td>\n",
       "      <td>118.4065</td>\n",
       "      <td>0.919227</td>\n",
       "      <td>0.844979</td>\n",
       "    </tr>\n",
       "  </tbody>\n",
       "</table>\n",
       "</div>"
      ],
      "text/plain": [
       "   Id    height    weight   x_value  x_squared\n",
       "0   1  70.49366  129.3840 -2.498433   6.242167\n",
       "1   2  65.23482  104.5786  2.760407   7.619848\n",
       "2   3  67.59619  131.7669  0.399037   0.159231\n",
       "3   4  68.51919  135.0276 -0.523963   0.274537\n",
       "4   5  67.07600  118.4065  0.919227   0.844979"
      ]
     },
     "execution_count": 5,
     "metadata": {},
     "output_type": "execute_result"
    }
   ],
   "source": [
    "xmean = x.mean()\n",
    "print(xmean)\n",
    "df['x_value'] = xmean - x\n",
    "df['x_squared'] = df['x_value'] ** 2\n",
    "df.head()"
   ]
  },
  {
   "cell_type": "code",
   "execution_count": 6,
   "id": "51274813",
   "metadata": {},
   "outputs": [],
   "source": [
    "SSxx = df.x_squared.sum()"
   ]
  },
  {
   "cell_type": "markdown",
   "id": "d92063e4",
   "metadata": {},
   "source": [
    "to calculate SSxy = summation of (xbar - xi)(ybar - yi)"
   ]
  },
  {
   "cell_type": "code",
   "execution_count": 7,
   "id": "f6917dbd",
   "metadata": {},
   "outputs": [
    {
     "data": {
      "text/plain": [
       "222509.22687406698"
      ]
     },
     "execution_count": 7,
     "metadata": {},
     "output_type": "execute_result"
    }
   ],
   "source": [
    "SSxx = df.x_squared.sum()\n",
    "\n",
    "ymean = y.mean()\n",
    "ymean\n",
    "df['y_value'] = ymean - y\n",
    "SSxy = (df.x_value * df.y_value).sum()\n",
    "SSxy"
   ]
  },
  {
   "cell_type": "code",
   "execution_count": 8,
   "id": "dfd4b703",
   "metadata": {},
   "outputs": [],
   "source": [
    "slope = SSxy/SSxx\n",
    "slope\n",
    "\n",
    "intercept = ymean - (slope * xmean)"
   ]
  },
  {
   "cell_type": "code",
   "execution_count": 9,
   "id": "6d1169af",
   "metadata": {},
   "outputs": [],
   "source": [
    "def prediction(value):\n",
    "    predict = (slope * value) + intercept\n",
    "    return predict"
   ]
  },
  {
   "cell_type": "code",
   "execution_count": 10,
   "id": "42946b44",
   "metadata": {},
   "outputs": [
    {
     "data": {
      "text/plain": [
       "133.28276430324632"
      ]
     },
     "execution_count": 10,
     "metadata": {},
     "output_type": "execute_result"
    }
   ],
   "source": [
    "prediction(70)"
   ]
  },
  {
   "cell_type": "code",
   "execution_count": 11,
   "id": "53e81028",
   "metadata": {},
   "outputs": [
    {
     "name": "stdout",
     "output_type": "stream",
     "text": [
      "3.0853622616514196\n",
      "-82.69259401235306\n"
     ]
    }
   ],
   "source": [
    "print(slope)\n",
    "print(intercept)"
   ]
  },
  {
   "cell_type": "code",
   "execution_count": 12,
   "id": "30669c18",
   "metadata": {},
   "outputs": [
    {
     "data": {
      "text/plain": [
       "[<matplotlib.lines.Line2D at 0x14fb82c9fa0>]"
      ]
     },
     "execution_count": 12,
     "metadata": {},
     "output_type": "execute_result"
    },
    {
     "data": {
      "image/png": "[encoded data removed]",
      "text/plain": [
       "<Figure size 432x288 with 1 Axes>"
      ]
     },
     "metadata": {
      "needs_background": "light"
     },
     "output_type": "display_data"
    }
   ],
   "source": [
    "plt.scatter(x,y)\n",
    "plt.plot(x, slope*x+intercept, 'r')"
   ]
  },
  {
   "cell_type": "markdown",
   "id": "956b5458",
   "metadata": {},
   "source": [
    "# Verifying with the libraries"
   ]
  },
  {
   "cell_type": "code",
   "execution_count": 13,
   "id": "50fb3a75",
   "metadata": {},
   "outputs": [],
   "source": [
    "from sklearn.linear_model import LinearRegression"
   ]
  },
  {
   "cell_type": "code",
   "execution_count": 14,
   "id": "b0dba066",
   "metadata": {},
   "outputs": [],
   "source": [
    "model = LinearRegression()"
   ]
  },
  {
   "cell_type": "code",
   "execution_count": 15,
   "id": "326faedb",
   "metadata": {},
   "outputs": [],
   "source": [
    "from sklearn.model_selection import train_test_split\n",
    "X_train, X_test, y_train, y_test = train_test_split(x,y, test_size=0.2, random_state=0)\n",
    "x_val = df[['height']]\n",
    "y_val = df['weight']\n",
    "X_train_value, X_test_value, y_train_value, y_test_value = train_test_split(x_val,y_val, test_size=0.2, random_state=0)"
   ]
  },
  {
   "cell_type": "code",
   "execution_count": 16,
   "id": "521b7782",
   "metadata": {},
   "outputs": [
    {
     "data": {
      "text/plain": [
       "LinearRegression()"
      ]
     },
     "execution_count": 16,
     "metadata": {},
     "output_type": "execute_result"
    }
   ],
   "source": [
    "model.fit(X_train_value, y_train_value)"
   ]
  },
  {
   "cell_type": "code",
   "execution_count": 17,
   "id": "2465651e",
   "metadata": {},
   "outputs": [
    {
     "name": "stdout",
     "output_type": "stream",
     "text": [
      "[133.25553088]\n"
     ]
    }
   ],
   "source": [
    "y_pred=model.predict([[70]])\n",
    "print(y_pred)"
   ]
  },
  {
   "cell_type": "code",
   "execution_count": null,
   "id": "9409a6a8",
   "metadata": {},
   "outputs": [],
   "source": []
  }
 ],
 "metadata": {
  "kernelspec": {
   "display_name": "Python 3",
   "language": "python",
   "name": "python3"
  },
  "language_info": {
   "codemirror_mode": {
    "name": "ipython",
    "version": 3
   },
   "file_extension": ".py",
   "mimetype": "text/x-python",
   "name": "python",
   "nbconvert_exporter": "python",
   "pygments_lexer": "ipython3",
   "version": "3.8.8"
  }
 },
 "nbformat": 4,
 "nbformat_minor": 5
}
